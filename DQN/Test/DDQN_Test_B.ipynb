{
  "cells": [
    {
      "cell_type": "code",
      "execution_count": null,
      "metadata": {},
      "outputs": [],
      "source": [
        "from keras import backend as K\n",
        "import os\n",
        "import json\n",
        "import numpy as np\n",
        "import matplotlib.pyplot as plt\n",
        "\n",
        "%run ../Environment.ipynb  # import Environment\n",
        "%run ../Agent.ipynb  # import Agent"
      ]
    },
    {
      "cell_type": "code",
      "execution_count": null,
      "metadata": {},
      "outputs": [],
      "source": [
        "# Assuming you have the EdgeComputingEnvironment and DDQNAgent defined as per your code\n",
        "env = EdgeComputingEnvironment()\n",
        "\n",
        "# Define the bandwidth values to test (in Hz)\n",
        "bandwidth_values = [2.5, 5, 7.5, 10, 15]  # Example values in Hz\n",
        "\n",
        "# Define the number of users/devices\n",
        "num_users = env.M\n",
        "\n",
        "# Initialize the DDQN agent\n",
        "agent = DDQNAgent(env, num_users)\n",
        "\n",
        "# Define the number of episodes for training and testing steps\n",
        "num_train_episodes = 1  # or any suitable number for training\n",
        "num_test_steps = 1       # or any suitable number for testing\n",
        "\n",
        "# Create the folder for DDQN model files if it doesn't exist\n",
        "model_folder = 'DDQN_Models_Test_Bandwidth'\n",
        "os.makedirs(model_folder, exist_ok=True)\n",
        "\n",
        "# Storage for results\n",
        "results = []\n",
        "\n",
        "# Train and save DDQN models for different bandwidth values\n",
        "for bandwidth in bandwidth_values:\n",
        "    env.B = bandwidth * 1e6  # Set the bandwidth in the environment\n",
        "    print(env.B)\n",
        "    # Train the agent\n",
        "    agent.train(num_train_episodes)\n",
        "\n",
        "    # Save the model for this configuration\n",
        "    model_filename = os.path.join(model_folder, f'DDQN_model_Bandwidth_{int(bandwidth)}MHz.h5')\n",
        "    agent.save(model_filename)\n",
        "\n",
        "    # Test and collect metrics\n",
        "    avg_delay, avg_alpha = agent.test(num_test_steps)\n",
        "\n",
        "    # Store the results\n",
        "    results.append({\n",
        "        'bandwidth': bandwidth,\n",
        "        'avg_alpha': avg_alpha\n",
        "    })\n",
        "\n",
        "# Save the results to a file\n",
        "with open('DDQN_Bandwidth_results.json', 'w') as f:\n",
        "    json.dump(results, f)\n",
        "\n",
        "# Extract the alpha values for plotting\n",
        "alpha_values = [result['avg_alpha'] for result in results]\n",
        "bandwidth_labels = [f\"{int(bw)} MHz\" for bw in bandwidth_values]\n",
        "\n",
        "# Plotting the results\n",
        "plt.figure(figsize=(10, 6))\n",
        "\n",
        "plt.plot(bandwidth_labels, alpha_values, marker='o', linestyle='-', color='blue', label='Average Alpha (Rate of Data Transfer)')\n",
        "plt.xlabel('Bandwidth')\n",
        "plt.ylabel('Average Alpha (Rate of Data Transfer)')\n",
        "plt.title('Impact of Bandwidth on Data Transfer Rate (Alpha)')\n",
        "plt.grid(True)\n",
        "plt.legend()\n",
        "\n",
        "# Show the plot\n",
        "plt.show()\n"
      ]
    }
  ],
  "metadata": {
    "colab": {
      "provenance": []
    },
    "kernelspec": {
      "display_name": "Python 3",
      "name": "python3"
    },
    "language_info": {
      "codemirror_mode": {
        "name": "ipython",
        "version": 3
      },
      "file_extension": ".py",
      "mimetype": "text/x-python",
      "name": "python",
      "nbconvert_exporter": "python",
      "pygments_lexer": "ipython3",
      "version": "3.9.19"
    }
  },
  "nbformat": 4,
  "nbformat_minor": 0
}
